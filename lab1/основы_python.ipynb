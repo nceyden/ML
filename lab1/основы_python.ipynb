{
  "cells": [
    {
      "cell_type": "markdown",
      "metadata": {
        "id": "M-DGa20PaHnu"
      },
      "source": [
        "#Задача 1\n",
        "Написать функцию на вход которой подается строка, состоящая из латинских букв.\n",
        "Функция должна вернуть количество гласных букв (a, e, i, o, u) в этой строке. Написать тесты для кода"
      ]
    },
    {
      "cell_type": "code",
      "execution_count": 1,
      "metadata": {
        "id": "XvX8X_JJ6PCb"
      },
      "outputs": [
        {
          "name": "stderr",
          "output_type": "stream",
          "text": [
            "test_all_letters (__main__.TestCountLetters.test_all_letters) ... ok\n",
            "test_diff_case (__main__.TestCountLetters.test_diff_case) ... ok\n",
            "test_empty_string (__main__.TestCountLetters.test_empty_string) ... ok\n",
            "test_no_letters (__main__.TestCountLetters.test_no_letters) ... ok\n",
            "test_sentence (__main__.TestCountLetters.test_sentence) ... ok\n",
            "\n",
            "----------------------------------------------------------------------\n",
            "Ran 5 tests in 0.006s\n",
            "\n",
            "OK\n"
          ]
        },
        {
          "data": {
            "text/plain": [
              "<unittest.main.TestProgram at 0x1e8923710a0>"
            ]
          },
          "execution_count": 1,
          "metadata": {},
          "output_type": "execute_result"
        }
      ],
      "source": [
        "import unittest\n",
        "\n",
        "def count_letters(str):\n",
        "    count = 0\n",
        "    right_letters = \"aeiouAEIOU\"\n",
        "    for char in str:\n",
        "        if char in right_letters:\n",
        "            count += 1\n",
        "    return count\n",
        "class TestCountLetters(unittest.TestCase):\n",
        "    def test_empty_string(self):\n",
        "        self.assertEqual(count_letters(\"\"), 0)\n",
        "    def test_all_letters(self):\n",
        "        self.assertEqual(count_letters(\"aeiou\"), 5)\n",
        "    def test_diff_case(self):\n",
        "        self.assertEqual(count_letters(\"aAeEiIoOuU\"), 10)\n",
        "    def test_no_letters(self):\n",
        "        self.assertEqual(count_letters(\"hjkl\"), 0)\n",
        "    def test_sentence(self):\n",
        "        self.assertEqual(count_letters(\"Hello, World!\"), 3)\n",
        "        \n",
        "unittest.main(argv=[''], verbosity=2, exit=False)\n"
      ]
    },
    {
      "cell_type": "markdown",
      "metadata": {
        "id": "t2ClV_Y0bbr6"
      },
      "source": [
        "# Задача 2\n",
        "Написать функцию на вход, которой подается строка. Функция должна вернуть true, если\n",
        "каждый символ в строке встречается только 1 раз, иначе должна вернуть false. Написать тесты для кода"
      ]
    },
    {
      "cell_type": "code",
      "execution_count": 2,
      "metadata": {
        "id": "FppbECao6VIz"
      },
      "outputs": [
        {
          "name": "stderr",
          "output_type": "stream",
          "text": [
            "test_non_unique_chars (__main__.TestAllUniqueChars.test_non_unique_chars) ... ok\n",
            "test_unique_chars (__main__.TestAllUniqueChars.test_unique_chars) ... ok\n",
            "test_all_letters (__main__.TestCountLetters.test_all_letters) ... ok\n",
            "test_diff_case (__main__.TestCountLetters.test_diff_case) ... ok\n",
            "test_empty_string (__main__.TestCountLetters.test_empty_string) ... ok\n",
            "test_no_letters (__main__.TestCountLetters.test_no_letters) ... ok\n",
            "test_sentence (__main__.TestCountLetters.test_sentence) ... ok\n",
            "\n",
            "----------------------------------------------------------------------\n",
            "Ran 7 tests in 0.007s\n",
            "\n",
            "OK\n"
          ]
        },
        {
          "data": {
            "text/plain": [
              "<unittest.main.TestProgram at 0x1e890f49880>"
            ]
          },
          "execution_count": 2,
          "metadata": {},
          "output_type": "execute_result"
        }
      ],
      "source": [
        "import unittest\n",
        "\n",
        "def unique_chars(str):\n",
        "    seen_chars = []\n",
        "    for char in str:\n",
        "        if char in seen_chars:\n",
        "            return False\n",
        "        seen_chars.append(char)\n",
        "    return True\n",
        "\n",
        "class TestAllUniqueChars(unittest.TestCase):\n",
        "    def test_unique_chars(self):\n",
        "        self.assertTrue(unique_chars(\"abcdefg\"))\n",
        "        self.assertTrue(unique_chars(\"1234567890\"))\n",
        "        self.assertTrue(unique_chars(\"\"))\n",
        "\n",
        "    def test_non_unique_chars(self):\n",
        "        self.assertFalse(unique_chars(\"hello\"))\n",
        "        self.assertFalse(unique_chars(\"apple\"))\n",
        "        self.assertFalse(unique_chars(\"aaaaaa\"))\n",
        "\n",
        "unittest.main(argv=[''], verbosity=2, exit=False)"
      ]
    },
    {
      "cell_type": "markdown",
      "metadata": {
        "id": "udRiIK1cdt6E"
      },
      "source": [
        "# Задача 3\n",
        "Написать функцию, которая принимает положительное число и возвращает количество\n",
        "бит равных 1 в этом числе. Написать тесты для кода"
      ]
    },
    {
      "cell_type": "code",
      "execution_count": 3,
      "metadata": {
        "id": "6tkfDJRz6dp_"
      },
      "outputs": [
        {
          "name": "stderr",
          "output_type": "stream",
          "text": [
            "test_non_unique_chars (__main__.TestAllUniqueChars.test_non_unique_chars) ... ok\n",
            "test_unique_chars (__main__.TestAllUniqueChars.test_unique_chars) ... ok\n",
            "test_positive_numbers (__main__.TestCountBits.test_positive_numbers) ... ok\n",
            "test_all_letters (__main__.TestCountLetters.test_all_letters) ... ok\n",
            "test_diff_case (__main__.TestCountLetters.test_diff_case) ... ok\n",
            "test_empty_string (__main__.TestCountLetters.test_empty_string) ... ok\n",
            "test_no_letters (__main__.TestCountLetters.test_no_letters) ... ok\n",
            "test_sentence (__main__.TestCountLetters.test_sentence) ... ok\n",
            "\n",
            "----------------------------------------------------------------------\n",
            "Ran 8 tests in 0.006s\n",
            "\n",
            "OK\n"
          ]
        },
        {
          "data": {
            "text/plain": [
              "<unittest.main.TestProgram at 0x1e8923da270>"
            ]
          },
          "execution_count": 3,
          "metadata": {},
          "output_type": "execute_result"
        }
      ],
      "source": [
        "import unittest\n",
        "\n",
        "def count_bits(num):\n",
        "    return int(str(bin(num)[2:]).count('1'))\n",
        "\n",
        "class TestCountBits(unittest.TestCase):\n",
        "    def test_positive_numbers(self):\n",
        "        self.assertEqual(count_bits(1), 1)\n",
        "        self.assertEqual(count_bits(2), 1)\n",
        "        self.assertEqual(count_bits(3), 2)\n",
        "        self.assertEqual(count_bits(4), 1)\n",
        "        self.assertEqual(count_bits(5), 2)\n",
        "        self.assertEqual(count_bits(8), 1)\n",
        "        self.assertEqual(count_bits(10), 2)\n",
        "        self.assertEqual(count_bits(15), 4)\n",
        "        self.assertEqual(count_bits(16), 1)\n",
        "        self.assertEqual(count_bits(1023), 10)\n",
        "        self.assertEqual(count_bits(1024), 1)\n",
        "        self.assertEqual(count_bits(65535), 16)\n",
        "        self.assertEqual(count_bits(4294967295), 32)\n",
        "\n",
        "unittest.main(argv=[''], verbosity=2, exit=False)"
      ]
    },
    {
      "cell_type": "markdown",
      "metadata": {
        "id": "26dDUz-Ae17N"
      },
      "source": [
        "# Задача 4\n",
        "Написать функцию, которая принимает положительное число. Функция должна вернуть то,\n",
        "сколько раз необходимо перемножать цифры числа или результат перемножения, чтобы\n",
        "получилось число состоящее из одной цифры.\n",
        "Например, для входного числа:\n",
        "· 39 функция должна вернуть 3, так как 3*9=27 => 2*7=14 => 1*4=4\n",
        "· 4 функция должна вернуть 0, так как число уже состоит из одной цифры\n",
        "· 999 функция должна вернуть 4, так как 9*9*9=729 => 7*2*9=126 => 1*2*6=12 =>\n",
        "1*2=2. Написать тесты для кода "
      ]
    },
    {
      "cell_type": "code",
      "execution_count": 4,
      "metadata": {
        "id": "BH1A_Mgi6i4G"
      },
      "outputs": [
        {
          "name": "stderr",
          "output_type": "stream",
          "text": [
            "test_non_unique_chars (__main__.TestAllUniqueChars.test_non_unique_chars) ... ok\n",
            "test_unique_chars (__main__.TestAllUniqueChars.test_unique_chars) ... ok\n",
            "test_positive_numbers (__main__.TestCountBits.test_positive_numbers) ... ok\n",
            "test_all_letters (__main__.TestCountLetters.test_all_letters) ... ok\n",
            "test_diff_case (__main__.TestCountLetters.test_diff_case) ... ok\n",
            "test_empty_string (__main__.TestCountLetters.test_empty_string) ... ok\n",
            "test_no_letters (__main__.TestCountLetters.test_no_letters) ... ok\n",
            "test_sentence (__main__.TestCountLetters.test_sentence) ... ok\n",
            "\n",
            "----------------------------------------------------------------------\n",
            "Ran 8 tests in 0.006s\n",
            "\n",
            "OK\n"
          ]
        }
      ],
      "source": [
        "import unittest\n",
        "\n",
        "def magic(num):\n",
        "    if num < 10:\n",
        "        return 0\n",
        "    count = 0\n",
        "    while num >= 10:\n",
        "        product = 1 # произведение \n",
        "        while num > 0:\n",
        "            digit = num % 10\n",
        "            product *= digit\n",
        "            num //= 10\n",
        "        num = product\n",
        "        count += 1\n",
        "    return count\n",
        "\n",
        "class TestMagicFunction(unittest.TestCase):\n",
        "    def test_single_digit(self):\n",
        "        self.assertEqual(magic(4), 0)\n",
        "\n",
        "    def test_double_digit(self):\n",
        "        self.assertEqual(magic(39), 3)\n",
        "\n",
        "    def test_triple_digit(self):\n",
        "        self.assertEqual(magic(999), 4)\n",
        "\n",
        "    def test_large_number(self):\n",
        "        self.assertEqual(magic(123456789), 2)  # 1*2*3*4*5*6*7*8*9 = 362880 => 3*6*2*8*8*0 = 0\n",
        "\n",
        "    def test_zero_input(self):\n",
        "        self.assertEqual(magic(0), 0)\n",
        "\n",
        "    def test_number_with_zero(self):\n",
        "        self.assertEqual(magic(10), 1)\n",
        "        self.assertEqual(magic(100), 1)\n",
        "        self.assertEqual(magic(1000), 1)\n",
        "\n",
        "    unittest.main(argv=[''], verbosity=2, exit=False)"
      ]
    },
    {
      "cell_type": "markdown",
      "metadata": {
        "id": "0nS-kIa8g8vd"
      },
      "source": [
        "# Задача 5\n",
        "Написать функцию, которая принимает два целочисленных вектора одинаковой длины и\n",
        "возвращает среднеквадратическое отклонение двух векторов. Написать тесты для кода"
      ]
    },
    {
      "cell_type": "code",
      "execution_count": 5,
      "metadata": {
        "id": "8iphx4LM6xbx"
      },
      "outputs": [
        {
          "name": "stderr",
          "output_type": "stream",
          "text": [
            "test_non_unique_chars (__main__.TestAllUniqueChars.test_non_unique_chars) ... ok\n",
            "test_unique_chars (__main__.TestAllUniqueChars.test_unique_chars) ... ok\n",
            "test_positive_numbers (__main__.TestCountBits.test_positive_numbers) ... ok\n",
            "test_all_letters (__main__.TestCountLetters.test_all_letters) ... ok\n",
            "test_diff_case (__main__.TestCountLetters.test_diff_case) ... ok\n",
            "test_empty_string (__main__.TestCountLetters.test_empty_string) ... ok\n",
            "test_no_letters (__main__.TestCountLetters.test_no_letters) ... ok\n",
            "test_sentence (__main__.TestCountLetters.test_sentence) ... ok\n",
            "test_double_digit (__main__.TestMagicFunction.test_double_digit) ... ok\n",
            "test_large_number (__main__.TestMagicFunction.test_large_number) ... ok\n",
            "test_number_with_zero (__main__.TestMagicFunction.test_number_with_zero) ... ok\n",
            "test_single_digit (__main__.TestMagicFunction.test_single_digit) ... ok\n",
            "test_triple_digit (__main__.TestMagicFunction.test_triple_digit) ... ok\n",
            "test_zero_input (__main__.TestMagicFunction.test_zero_input) ... ok\n",
            "test_different_vectors (__main__.TestRMSD.test_different_vectors) ... ok\n",
            "test_equal_vectors (__main__.TestRMSD.test_equal_vectors) ... ok\n",
            "test_unequal_lengths (__main__.TestRMSD.test_unequal_lengths) ... ok\n",
            "\n",
            "----------------------------------------------------------------------\n",
            "Ran 17 tests in 0.010s\n",
            "\n",
            "OK\n"
          ]
        },
        {
          "data": {
            "text/plain": [
              "<unittest.main.TestProgram at 0x1e892440aa0>"
            ]
          },
          "execution_count": 5,
          "metadata": {},
          "output_type": "execute_result"
        }
      ],
      "source": [
        "import numpy\n",
        "import unittest\n",
        "\n",
        "def rmsd(vector1, vector2):\n",
        "    if len(vector1) != len(vector2):\n",
        "        raise ValueError(\"Векторы должны быть одной длины.\")\n",
        "\n",
        "    squared_differences = [(x - y) ** 2 for x, y in zip(vector1, vector2)]\n",
        "    mean_squared_error = sum(squared_differences) / len(vector1)\n",
        "    return numpy.sqrt(mean_squared_error)\n",
        "\n",
        "class TestRMSD(unittest.TestCase):\n",
        "\n",
        "    def test_equal_vectors(self):\n",
        "        vector1 = [1, 2, 3]\n",
        "        vector2 = [1, 2, 3]\n",
        "        self.assertEqual(rmsd(vector1, vector2), 0)\n",
        "\n",
        "    def test_different_vectors(self):\n",
        "        vector1 = [1, 2, 3]\n",
        "        vector2 = [2, 3, 4]\n",
        "        self.assertEqual(rmsd(vector1, vector2), 1)\n",
        "\n",
        "    def test_unequal_lengths(self):\n",
        "        vector1 = [1, 2]\n",
        "        vector2 = [1, 2, 3]\n",
        "        with self.assertRaises(ValueError):\n",
        "            rmsd(vector1, vector2)\n",
        "\n",
        "unittest.main(argv=[''], verbosity=2, exit=False)"
      ]
    },
    {
      "cell_type": "markdown",
      "metadata": {
        "id": "vpIPKL439zkw"
      },
      "source": [
        "# Задача 6\n",
        "Написать функцию, принимающая целое положительное число. Функция должна вернуть\n",
        "строку вида “(n1**p1)(n2**p2)…(nk**pk)” представляющая разложение числа на простые\n",
        "множители (если pi == 1, то выводить только ni).\n",
        "Например, для числа 86240 функция должна вернуть “(2**5)(5)(7**2)(11)”. Написать тесты для кода"
      ]
    },
    {
      "cell_type": "code",
      "execution_count": 5,
      "metadata": {
        "id": "pFebmcZk94Jw"
      },
      "outputs": [
        {
          "name": "stderr",
          "output_type": "stream",
          "text": [
            "test_prime_factorization (__main__.TestPrimeFactorization.test_prime_factorization) ... ok\n",
            "test_prime_factorization1 (__main__.TestPrimeFactorization.test_prime_factorization1) ... ok\n",
            "test_prime_factorization2 (__main__.TestPrimeFactorization.test_prime_factorization2) ... ok\n",
            "test_prime_factorization3 (__main__.TestPrimeFactorization.test_prime_factorization3) ... ok\n",
            "test_prime_factorization4 (__main__.TestPrimeFactorization.test_prime_factorization4) ... ok\n",
            "test_prime_factorization5 (__main__.TestPrimeFactorization.test_prime_factorization5) ... ok\n",
            "\n",
            "----------------------------------------------------------------------\n",
            "Ran 6 tests in 0.007s\n",
            "\n",
            "OK\n"
          ]
        },
        {
          "data": {
            "text/plain": [
              "<unittest.main.TestProgram at 0x198eb23cef0>"
            ]
          },
          "execution_count": 5,
          "metadata": {},
          "output_type": "execute_result"
        }
      ],
      "source": [
        "import unittest\n",
        "\n",
        "def prime_factorization(n):\n",
        "    if n == 1: return \"(1)\"\n",
        "    factors = []\n",
        "    for i in range(2, int(n ** 0.5) + 1):\n",
        "        exponent = 0\n",
        "        while n % i == 0:\n",
        "            exponent += 1\n",
        "            n //= i\n",
        "        if exponent:\n",
        "            factors.append((i, exponent))\n",
        "\n",
        "    if n > 1:\n",
        "        factors.append((n, 1))\n",
        "    result = \"\"\n",
        "    for factor, exponent in factors:\n",
        "        if exponent == 1:\n",
        "            result += f\"({factor})\"\n",
        "        else:\n",
        "            result += f\"({factor}**{exponent})\"\n",
        "\n",
        "    return result\n",
        "\n",
        "class TestPrimeFactorization(unittest.TestCase):\n",
        "\n",
        "    def test_prime_factorization(self):\n",
        "        self.assertEqual(prime_factorization(1), \"(1)\")\n",
        "    def test_prime_factorization1(self):\n",
        "        self.assertEqual(prime_factorization(2), \"(2)\")\n",
        "    def test_prime_factorization2(self):\n",
        "        self.assertEqual(prime_factorization(4), \"(2**2)\")\n",
        "    def test_prime_factorization3(self):\n",
        "        self.assertEqual(prime_factorization(100), \"(2**2)(5**2)\")\n",
        "    def test_prime_factorization4(self):\n",
        "        self.assertEqual(prime_factorization(120), \"(2**3)(3)(5)\")\n",
        "    def test_prime_factorization5(self):\n",
        "        self.assertEqual(prime_factorization(86240), \"(2**5)(5)(7**2)(11)\")\n",
        "\n",
        "unittest.main(argv=[''], verbosity=2, exit=False)"
      ]
    },
    {
      "cell_type": "markdown",
      "metadata": {
        "id": "ps2s0BudX7A2"
      },
      "source": [
        "# Задача 7\n",
        "Написать функцию, принимающая целое число n, задающее количество кубиков. Функция\n",
        "должна определить, можно ли из данного кол-ва кубиков построить пирамиду, то есть\n",
        "можно ли представить число n как 1^2+2^2+3^2+…+k^2. Если можно, то функция должна\n",
        "вернуть k, иначе строку “It is impossible”. Написать тесты для кода"
      ]
    },
    {
      "cell_type": "code",
      "execution_count": 7,
      "metadata": {
        "id": "3YPjEXxhX_YT"
      },
      "outputs": [
        {
          "name": "stderr",
          "output_type": "stream",
          "text": [
            "test_non_unique_chars (__main__.TestAllUniqueChars.test_non_unique_chars) ... ok\n",
            "test_unique_chars (__main__.TestAllUniqueChars.test_unique_chars) ... ok\n",
            "test_impossible_pyramid (__main__.TestBuildPyramid.test_impossible_pyramid) ... ok\n",
            "test_possible_pyramid (__main__.TestBuildPyramid.test_possible_pyramid) ... ok\n",
            "test_positive_numbers (__main__.TestCountBits.test_positive_numbers) ... ok\n",
            "test_all_letters (__main__.TestCountLetters.test_all_letters) ... ok\n",
            "test_diff_case (__main__.TestCountLetters.test_diff_case) ... ok\n",
            "test_empty_string (__main__.TestCountLetters.test_empty_string) ... ok\n",
            "test_no_letters (__main__.TestCountLetters.test_no_letters) ... ok\n",
            "test_sentence (__main__.TestCountLetters.test_sentence) ... ok\n",
            "test_double_digit (__main__.TestMagicFunction.test_double_digit) ... ok\n",
            "test_large_number (__main__.TestMagicFunction.test_large_number) ... ok\n",
            "test_number_with_zero (__main__.TestMagicFunction.test_number_with_zero) ... ok\n",
            "test_single_digit (__main__.TestMagicFunction.test_single_digit) ... ok\n",
            "test_triple_digit (__main__.TestMagicFunction.test_triple_digit) ... ok\n",
            "test_zero_input (__main__.TestMagicFunction.test_zero_input) ... ok\n",
            "test_prime_factorization (__main__.TestPrimeFactorization.test_prime_factorization) ... ok\n",
            "test_prime_factorization1 (__main__.TestPrimeFactorization.test_prime_factorization1) ... ok\n",
            "test_prime_factorization2 (__main__.TestPrimeFactorization.test_prime_factorization2) ... ok\n",
            "test_prime_factorization3 (__main__.TestPrimeFactorization.test_prime_factorization3) ... ok\n",
            "test_prime_factorization4 (__main__.TestPrimeFactorization.test_prime_factorization4) ... ok\n",
            "test_prime_factorization5 (__main__.TestPrimeFactorization.test_prime_factorization5) ... ok\n",
            "test_different_vectors (__main__.TestRMSD.test_different_vectors) ... ok\n",
            "test_equal_vectors (__main__.TestRMSD.test_equal_vectors) ... ok\n",
            "test_unequal_lengths (__main__.TestRMSD.test_unequal_lengths) ... ok\n",
            "\n",
            "----------------------------------------------------------------------\n",
            "Ran 25 tests in 0.017s\n",
            "\n",
            "OK\n"
          ]
        },
        {
          "data": {
            "text/plain": [
              "<unittest.main.TestProgram at 0x1e890f986e0>"
            ]
          },
          "execution_count": 7,
          "metadata": {},
          "output_type": "execute_result"
        }
      ],
      "source": [
        "import unittest\n",
        "def pyramid(number):\n",
        "    total = 0\n",
        "    k = 0\n",
        "    while total < number:\n",
        "        k += 1\n",
        "        total += k ** 2\n",
        "    if total == number:\n",
        "        return k\n",
        "    else:\n",
        "        return \"It is impossible\"\n",
        "    \n",
        "\n",
        "class TestBuildPyramid(unittest.TestCase):\n",
        "    def test_possible_pyramid(self):\n",
        "        self.assertEqual(pyramid(1), 1)\n",
        "        self.assertEqual(pyramid(5), 2)\n",
        "        self.assertEqual(pyramid(14), 3)\n",
        "        self.assertEqual(pyramid(30), 4)\n",
        "        self.assertEqual(pyramid(55), 5)\n",
        "\n",
        "    def test_impossible_pyramid(self):\n",
        "        self.assertEqual(pyramid(2), \"It is impossible\")\n",
        "        self.assertEqual(pyramid(9), \"It is impossible\")\n",
        "        self.assertEqual(pyramid(20), \"It is impossible\")\n",
        "        self.assertEqual(pyramid(40), \"It is impossible\")\n",
        "        self.assertEqual(pyramid(70), \"It is impossible\")\n",
        "\n",
        "unittest.main(argv=[''], verbosity=2, exit=False)"
      ]
    },
    {
      "cell_type": "markdown",
      "metadata": {
        "id": "KeKgmIdAQMEJ"
      },
      "source": [
        "# Задача 8\n",
        "Функция принимает на вход положительное число и определяет является ли оно сбалансированным, т.е. сумма цифр до средних равна сумме цифр после. Средними в случае нечетного числа цифр считать одну цифру, в случае четного - две средних. Написать тесты для кода"
      ]
    },
    {
      "cell_type": "code",
      "execution_count": 9,
      "metadata": {
        "id": "gMAAqtqlQrZt"
      },
      "outputs": [
        {
          "name": "stderr",
          "output_type": "stream",
          "text": [
            "test_non_unique_chars (__main__.TestAllUniqueChars.test_non_unique_chars) ... ok\n",
            "test_unique_chars (__main__.TestAllUniqueChars.test_unique_chars) ... ok\n",
            "test_impossible_pyramid (__main__.TestBuildPyramid.test_impossible_pyramid) ... ok\n",
            "test_possible_pyramid (__main__.TestBuildPyramid.test_possible_pyramid) ... ok\n",
            "test_positive_numbers (__main__.TestCountBits.test_positive_numbers) ... ok\n",
            "test_all_letters (__main__.TestCountLetters.test_all_letters) ... ok\n",
            "test_diff_case (__main__.TestCountLetters.test_diff_case) ... ok\n",
            "test_empty_string (__main__.TestCountLetters.test_empty_string) ... ok\n",
            "test_no_letters (__main__.TestCountLetters.test_no_letters) ... ok\n",
            "test_sentence (__main__.TestCountLetters.test_sentence) ... ok\n",
            "test_balanced_even (__main__.TestIsBalanced.test_balanced_even) ... ok\n",
            "test_balanced_odd (__main__.TestIsBalanced.test_balanced_odd) ... ok\n",
            "test_unbalanced_even (__main__.TestIsBalanced.test_unbalanced_even) ... ok\n",
            "test_unbalanced_odd (__main__.TestIsBalanced.test_unbalanced_odd) ... ok\n",
            "test_double_digit (__main__.TestMagicFunction.test_double_digit) ... ok\n",
            "test_large_number (__main__.TestMagicFunction.test_large_number) ... ok\n",
            "test_number_with_zero (__main__.TestMagicFunction.test_number_with_zero) ... ok\n",
            "test_single_digit (__main__.TestMagicFunction.test_single_digit) ... ok\n",
            "test_triple_digit (__main__.TestMagicFunction.test_triple_digit) ... ok\n",
            "test_zero_input (__main__.TestMagicFunction.test_zero_input) ... ok\n",
            "test_prime_factorization (__main__.TestPrimeFactorization.test_prime_factorization) ... ok\n",
            "test_prime_factorization1 (__main__.TestPrimeFactorization.test_prime_factorization1) ... ok\n",
            "test_prime_factorization2 (__main__.TestPrimeFactorization.test_prime_factorization2) ... ok\n",
            "test_prime_factorization3 (__main__.TestPrimeFactorization.test_prime_factorization3) ... ok\n",
            "test_prime_factorization4 (__main__.TestPrimeFactorization.test_prime_factorization4) ... ok\n",
            "test_prime_factorization5 (__main__.TestPrimeFactorization.test_prime_factorization5) ... ok\n",
            "test_different_vectors (__main__.TestRMSD.test_different_vectors) ... ok\n",
            "test_equal_vectors (__main__.TestRMSD.test_equal_vectors) ... ok\n",
            "test_unequal_lengths (__main__.TestRMSD.test_unequal_lengths) ... ok\n",
            "\n",
            "----------------------------------------------------------------------\n",
            "Ran 29 tests in 0.022s\n",
            "\n",
            "OK\n"
          ]
        },
        {
          "data": {
            "text/plain": [
              "<unittest.main.TestProgram at 0x1e8a883cec0>"
            ]
          },
          "execution_count": 9,
          "metadata": {},
          "output_type": "execute_result"
        }
      ],
      "source": [
        "import unittest\n",
        "\n",
        "def is_balanced(number):\n",
        "    digits = [int(d) for d in str(number)]\n",
        "    length = len(digits)\n",
        "    \n",
        "    if length % 2 == 0:\n",
        "        left_sum = sum(digits[:length//2])\n",
        "        right_sum = sum(digits[length//2:])\n",
        "    else:\n",
        "        left_sum = sum(digits[:length//2])\n",
        "        right_sum = sum(digits[length//2+1:])\n",
        "    \n",
        "    return left_sum == right_sum\n",
        "\n",
        "class TestIsBalanced(unittest.TestCase):\n",
        "    def test_balanced_odd(self):\n",
        "        self.assertTrue(is_balanced(12321))\n",
        "    \n",
        "    def test_unbalanced_odd(self):\n",
        "        self.assertFalse(is_balanced(12345))\n",
        "    \n",
        "    def test_balanced_even(self):\n",
        "        self.assertTrue(is_balanced(123321))\n",
        "    \n",
        "    def test_unbalanced_even(self):\n",
        "        self.assertFalse(is_balanced(123456))\n",
        "\n",
        "unittest.main(argv=[''], verbosity=2, exit=False)"
      ]
    }
  ],
  "metadata": {
    "colab": {
      "provenance": []
    },
    "kernelspec": {
      "display_name": "Python 3",
      "name": "python3"
    },
    "language_info": {
      "codemirror_mode": {
        "name": "ipython",
        "version": 3
      },
      "file_extension": ".py",
      "mimetype": "text/x-python",
      "name": "python",
      "nbconvert_exporter": "python",
      "pygments_lexer": "ipython3",
      "version": "3.12.2"
    }
  },
  "nbformat": 4,
  "nbformat_minor": 0
}
